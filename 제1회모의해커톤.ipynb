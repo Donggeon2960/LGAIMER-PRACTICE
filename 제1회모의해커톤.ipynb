{
  "nbformat": 4,
  "nbformat_minor": 0,
  "metadata": {
    "colab": {
      "provenance": [],
      "gpuType": "T4",
      "authorship_tag": "ABX9TyMLaacatYtKysyDX2jZMNbC",
      "include_colab_link": true
    },
    "kernelspec": {
      "name": "python3",
      "display_name": "Python 3"
    },
    "language_info": {
      "name": "python"
    },
    "accelerator": "GPU"
  },
  "cells": [
    {
      "cell_type": "markdown",
      "metadata": {
        "id": "view-in-github",
        "colab_type": "text"
      },
      "source": [
        "<a href=\"https://colab.research.google.com/github/Donggeon2960/LGAIMER-PRACTICE/blob/main/%EC%A0%9C1%ED%9A%8C%EB%AA%A8%EC%9D%98%ED%95%B4%EC%BB%A4%ED%86%A4.ipynb\" target=\"_parent\"><img src=\"https://colab.research.google.com/assets/colab-badge.svg\" alt=\"Open In Colab\"/></a>"
      ]
    },
    {
      "cell_type": "markdown",
      "source": [
        "#1. 라이브러리 불러오기"
      ],
      "metadata": {
        "id": "6K6uwTH3Gnry"
      }
    },
    {
      "cell_type": "code",
      "source": [
        "import pandas as pd\n",
        "import numpy as np\n",
        "\n",
        "# 전처리·인코딩·모델링용\n",
        "from sklearn.model_selection import train_test_split, GridSearchCV, cross_val_score\n",
        "from sklearn.impute import SimpleImputer\n",
        "from sklearn.preprocessing import OneHotEncoder, StandardScaler\n",
        "from sklearn.compose import ColumnTransformer\n",
        "from sklearn.pipeline import Pipeline\n",
        "from sklearn.ensemble import RandomForestClassifier\n",
        "from sklearn.metrics import f1_score, classification_report, confusion_matrix\n",
        "# (Optional) SMOTE 사용 시\n",
        "from imblearn.over_sampling import SMOTE\n",
        "from imblearn.pipeline import Pipeline as ImbPipeline\n"
      ],
      "metadata": {
        "id": "sKvNMmCkGmHc"
      },
      "execution_count": 37,
      "outputs": []
    },
    {
      "cell_type": "markdown",
      "source": [
        "#2. 데이터 로드 및 분할"
      ],
      "metadata": {
        "id": "UrYf_2AtGqkB"
      }
    },
    {
      "cell_type": "code",
      "source": [
        "# (경로는 /mnt/data/ 의 위치에 맞춰 수정)\n",
        "df = pd.read_pickle('/content/train.pkl')   # 학습용\n",
        "df_test = pd.read_pickle('/content/test.pkl')  # 검증 혹은 제출용\n",
        "\n",
        "# 피처/레이블 분리\n",
        "X = df.drop(columns=['LoanID', 'Default'])\n",
        "y = df['Default']\n",
        "\n",
        "# 내부 검증용으로 80:20 분할\n",
        "X_train, X_valid, y_train, y_valid = train_test_split(\n",
        "    X, y, test_size=0.2, stratify=y, random_state=42\n",
        ")\n"
      ],
      "metadata": {
        "id": "xtXBP367H_sI"
      },
      "execution_count": 38,
      "outputs": []
    },
    {
      "cell_type": "markdown",
      "source": [
        "#3. EDA: 불균형 확인 & 결측치 탐색"
      ],
      "metadata": {
        "id": "_KMpw1pZIPYA"
      }
    },
    {
      "cell_type": "code",
      "source": [
        "# 1) 타깃 분포 (심각한 불균형)\n",
        "print(y_train.value_counts(normalize=True))\n",
        "\n",
        "# 2) 결측치 개수\n",
        "print(X_train.isna().sum().sort_values(ascending=False))\n",
        "\n",
        "# 3) 기초 통계 & 분포\n",
        "display(X_train.describe())\n",
        "# (원한다면 히스토그램/박스플롯 추가)\n"
      ],
      "metadata": {
        "colab": {
          "base_uri": "https://localhost:8080/",
          "height": 688
        },
        "id": "93U0LA9nIIKJ",
        "outputId": "7b5b685a-fb8b-411e-d694-c8c8d9b78463"
      },
      "execution_count": 39,
      "outputs": [
        {
          "output_type": "stream",
          "name": "stdout",
          "text": [
            "Default\n",
            "0    0.942489\n",
            "1    0.057511\n",
            "Name: proportion, dtype: float64\n",
            "DTIRatio          488\n",
            "InterestRate      469\n",
            "HasMortgage       449\n",
            "HasDependents     391\n",
            "Age               382\n",
            "MaritalStatus     353\n",
            "LoanPurpose       341\n",
            "MonthsEmployed    311\n",
            "Income            297\n",
            "LoanAmount        264\n",
            "EmploymentType    208\n",
            "HasCoSigner       190\n",
            "NumCreditLines    157\n",
            "CreditScore       128\n",
            "LoanTerm          123\n",
            "Education         104\n",
            "dtype: int64\n"
          ]
        },
        {
          "output_type": "display_data",
          "data": {
            "text/plain": [
              "             Age        Income     LoanAmount  CreditScore  MonthsEmployed  \\\n",
              "count   100956.0      101041.0       101074.0     101210.0        101027.0   \n",
              "mean   43.008707  82518.444651  127635.585432   573.724958       59.046473   \n",
              "std    15.034846   38916.62822   71009.023096   159.304397       34.681053   \n",
              "min         17.0       14733.0         4824.0        290.0             0.0   \n",
              "25%         30.0       48830.0        65985.0        436.0            29.0   \n",
              "50%         43.0       82420.0       127641.0        573.0            59.0   \n",
              "75%         56.0      116202.0       189409.5        712.0            89.0   \n",
              "max         72.0      152947.0       259139.0        875.0           121.0   \n",
              "\n",
              "       NumCreditLines  InterestRate   LoanTerm  DTIRatio  \n",
              "count        101181.0      100869.0   101215.0  100850.0  \n",
              "mean         2.001611     13.494326  35.505893  0.499619  \n",
              "std          1.222017      6.641903  17.019016  0.231614  \n",
              "min               0.0           1.9       11.0       0.1  \n",
              "25%               1.0          7.77       23.0       0.3  \n",
              "50%               2.0         13.44       35.0       0.5  \n",
              "75%               3.0         19.22       48.0       0.7  \n",
              "max               4.0         26.19       62.0      0.94  "
            ],
            "text/html": [
              "\n",
              "  <div id=\"df-e34d1396-c00a-4ad3-b406-321ce35c18cf\" class=\"colab-df-container\">\n",
              "    <div>\n",
              "<style scoped>\n",
              "    .dataframe tbody tr th:only-of-type {\n",
              "        vertical-align: middle;\n",
              "    }\n",
              "\n",
              "    .dataframe tbody tr th {\n",
              "        vertical-align: top;\n",
              "    }\n",
              "\n",
              "    .dataframe thead th {\n",
              "        text-align: right;\n",
              "    }\n",
              "</style>\n",
              "<table border=\"1\" class=\"dataframe\">\n",
              "  <thead>\n",
              "    <tr style=\"text-align: right;\">\n",
              "      <th></th>\n",
              "      <th>Age</th>\n",
              "      <th>Income</th>\n",
              "      <th>LoanAmount</th>\n",
              "      <th>CreditScore</th>\n",
              "      <th>MonthsEmployed</th>\n",
              "      <th>NumCreditLines</th>\n",
              "      <th>InterestRate</th>\n",
              "      <th>LoanTerm</th>\n",
              "      <th>DTIRatio</th>\n",
              "    </tr>\n",
              "  </thead>\n",
              "  <tbody>\n",
              "    <tr>\n",
              "      <th>count</th>\n",
              "      <td>100956.0</td>\n",
              "      <td>101041.0</td>\n",
              "      <td>101074.0</td>\n",
              "      <td>101210.0</td>\n",
              "      <td>101027.0</td>\n",
              "      <td>101181.0</td>\n",
              "      <td>100869.0</td>\n",
              "      <td>101215.0</td>\n",
              "      <td>100850.0</td>\n",
              "    </tr>\n",
              "    <tr>\n",
              "      <th>mean</th>\n",
              "      <td>43.008707</td>\n",
              "      <td>82518.444651</td>\n",
              "      <td>127635.585432</td>\n",
              "      <td>573.724958</td>\n",
              "      <td>59.046473</td>\n",
              "      <td>2.001611</td>\n",
              "      <td>13.494326</td>\n",
              "      <td>35.505893</td>\n",
              "      <td>0.499619</td>\n",
              "    </tr>\n",
              "    <tr>\n",
              "      <th>std</th>\n",
              "      <td>15.034846</td>\n",
              "      <td>38916.62822</td>\n",
              "      <td>71009.023096</td>\n",
              "      <td>159.304397</td>\n",
              "      <td>34.681053</td>\n",
              "      <td>1.222017</td>\n",
              "      <td>6.641903</td>\n",
              "      <td>17.019016</td>\n",
              "      <td>0.231614</td>\n",
              "    </tr>\n",
              "    <tr>\n",
              "      <th>min</th>\n",
              "      <td>17.0</td>\n",
              "      <td>14733.0</td>\n",
              "      <td>4824.0</td>\n",
              "      <td>290.0</td>\n",
              "      <td>0.0</td>\n",
              "      <td>0.0</td>\n",
              "      <td>1.9</td>\n",
              "      <td>11.0</td>\n",
              "      <td>0.1</td>\n",
              "    </tr>\n",
              "    <tr>\n",
              "      <th>25%</th>\n",
              "      <td>30.0</td>\n",
              "      <td>48830.0</td>\n",
              "      <td>65985.0</td>\n",
              "      <td>436.0</td>\n",
              "      <td>29.0</td>\n",
              "      <td>1.0</td>\n",
              "      <td>7.77</td>\n",
              "      <td>23.0</td>\n",
              "      <td>0.3</td>\n",
              "    </tr>\n",
              "    <tr>\n",
              "      <th>50%</th>\n",
              "      <td>43.0</td>\n",
              "      <td>82420.0</td>\n",
              "      <td>127641.0</td>\n",
              "      <td>573.0</td>\n",
              "      <td>59.0</td>\n",
              "      <td>2.0</td>\n",
              "      <td>13.44</td>\n",
              "      <td>35.0</td>\n",
              "      <td>0.5</td>\n",
              "    </tr>\n",
              "    <tr>\n",
              "      <th>75%</th>\n",
              "      <td>56.0</td>\n",
              "      <td>116202.0</td>\n",
              "      <td>189409.5</td>\n",
              "      <td>712.0</td>\n",
              "      <td>89.0</td>\n",
              "      <td>3.0</td>\n",
              "      <td>19.22</td>\n",
              "      <td>48.0</td>\n",
              "      <td>0.7</td>\n",
              "    </tr>\n",
              "    <tr>\n",
              "      <th>max</th>\n",
              "      <td>72.0</td>\n",
              "      <td>152947.0</td>\n",
              "      <td>259139.0</td>\n",
              "      <td>875.0</td>\n",
              "      <td>121.0</td>\n",
              "      <td>4.0</td>\n",
              "      <td>26.19</td>\n",
              "      <td>62.0</td>\n",
              "      <td>0.94</td>\n",
              "    </tr>\n",
              "  </tbody>\n",
              "</table>\n",
              "</div>\n",
              "    <div class=\"colab-df-buttons\">\n",
              "\n",
              "  <div class=\"colab-df-container\">\n",
              "    <button class=\"colab-df-convert\" onclick=\"convertToInteractive('df-e34d1396-c00a-4ad3-b406-321ce35c18cf')\"\n",
              "            title=\"Convert this dataframe to an interactive table.\"\n",
              "            style=\"display:none;\">\n",
              "\n",
              "  <svg xmlns=\"http://www.w3.org/2000/svg\" height=\"24px\" viewBox=\"0 -960 960 960\">\n",
              "    <path d=\"M120-120v-720h720v720H120Zm60-500h600v-160H180v160Zm220 220h160v-160H400v160Zm0 220h160v-160H400v160ZM180-400h160v-160H180v160Zm440 0h160v-160H620v160ZM180-180h160v-160H180v160Zm440 0h160v-160H620v160Z\"/>\n",
              "  </svg>\n",
              "    </button>\n",
              "\n",
              "  <style>\n",
              "    .colab-df-container {\n",
              "      display:flex;\n",
              "      gap: 12px;\n",
              "    }\n",
              "\n",
              "    .colab-df-convert {\n",
              "      background-color: #E8F0FE;\n",
              "      border: none;\n",
              "      border-radius: 50%;\n",
              "      cursor: pointer;\n",
              "      display: none;\n",
              "      fill: #1967D2;\n",
              "      height: 32px;\n",
              "      padding: 0 0 0 0;\n",
              "      width: 32px;\n",
              "    }\n",
              "\n",
              "    .colab-df-convert:hover {\n",
              "      background-color: #E2EBFA;\n",
              "      box-shadow: 0px 1px 2px rgba(60, 64, 67, 0.3), 0px 1px 3px 1px rgba(60, 64, 67, 0.15);\n",
              "      fill: #174EA6;\n",
              "    }\n",
              "\n",
              "    .colab-df-buttons div {\n",
              "      margin-bottom: 4px;\n",
              "    }\n",
              "\n",
              "    [theme=dark] .colab-df-convert {\n",
              "      background-color: #3B4455;\n",
              "      fill: #D2E3FC;\n",
              "    }\n",
              "\n",
              "    [theme=dark] .colab-df-convert:hover {\n",
              "      background-color: #434B5C;\n",
              "      box-shadow: 0px 1px 3px 1px rgba(0, 0, 0, 0.15);\n",
              "      filter: drop-shadow(0px 1px 2px rgba(0, 0, 0, 0.3));\n",
              "      fill: #FFFFFF;\n",
              "    }\n",
              "  </style>\n",
              "\n",
              "    <script>\n",
              "      const buttonEl =\n",
              "        document.querySelector('#df-e34d1396-c00a-4ad3-b406-321ce35c18cf button.colab-df-convert');\n",
              "      buttonEl.style.display =\n",
              "        google.colab.kernel.accessAllowed ? 'block' : 'none';\n",
              "\n",
              "      async function convertToInteractive(key) {\n",
              "        const element = document.querySelector('#df-e34d1396-c00a-4ad3-b406-321ce35c18cf');\n",
              "        const dataTable =\n",
              "          await google.colab.kernel.invokeFunction('convertToInteractive',\n",
              "                                                    [key], {});\n",
              "        if (!dataTable) return;\n",
              "\n",
              "        const docLinkHtml = 'Like what you see? Visit the ' +\n",
              "          '<a target=\"_blank\" href=https://colab.research.google.com/notebooks/data_table.ipynb>data table notebook</a>'\n",
              "          + ' to learn more about interactive tables.';\n",
              "        element.innerHTML = '';\n",
              "        dataTable['output_type'] = 'display_data';\n",
              "        await google.colab.output.renderOutput(dataTable, element);\n",
              "        const docLink = document.createElement('div');\n",
              "        docLink.innerHTML = docLinkHtml;\n",
              "        element.appendChild(docLink);\n",
              "      }\n",
              "    </script>\n",
              "  </div>\n",
              "\n",
              "\n",
              "    <div id=\"df-cc0a1f66-54a0-4d9d-b6bb-6b2f1d700d2c\">\n",
              "      <button class=\"colab-df-quickchart\" onclick=\"quickchart('df-cc0a1f66-54a0-4d9d-b6bb-6b2f1d700d2c')\"\n",
              "                title=\"Suggest charts\"\n",
              "                style=\"display:none;\">\n",
              "\n",
              "<svg xmlns=\"http://www.w3.org/2000/svg\" height=\"24px\"viewBox=\"0 0 24 24\"\n",
              "     width=\"24px\">\n",
              "    <g>\n",
              "        <path d=\"M19 3H5c-1.1 0-2 .9-2 2v14c0 1.1.9 2 2 2h14c1.1 0 2-.9 2-2V5c0-1.1-.9-2-2-2zM9 17H7v-7h2v7zm4 0h-2V7h2v10zm4 0h-2v-4h2v4z\"/>\n",
              "    </g>\n",
              "</svg>\n",
              "      </button>\n",
              "\n",
              "<style>\n",
              "  .colab-df-quickchart {\n",
              "      --bg-color: #E8F0FE;\n",
              "      --fill-color: #1967D2;\n",
              "      --hover-bg-color: #E2EBFA;\n",
              "      --hover-fill-color: #174EA6;\n",
              "      --disabled-fill-color: #AAA;\n",
              "      --disabled-bg-color: #DDD;\n",
              "  }\n",
              "\n",
              "  [theme=dark] .colab-df-quickchart {\n",
              "      --bg-color: #3B4455;\n",
              "      --fill-color: #D2E3FC;\n",
              "      --hover-bg-color: #434B5C;\n",
              "      --hover-fill-color: #FFFFFF;\n",
              "      --disabled-bg-color: #3B4455;\n",
              "      --disabled-fill-color: #666;\n",
              "  }\n",
              "\n",
              "  .colab-df-quickchart {\n",
              "    background-color: var(--bg-color);\n",
              "    border: none;\n",
              "    border-radius: 50%;\n",
              "    cursor: pointer;\n",
              "    display: none;\n",
              "    fill: var(--fill-color);\n",
              "    height: 32px;\n",
              "    padding: 0;\n",
              "    width: 32px;\n",
              "  }\n",
              "\n",
              "  .colab-df-quickchart:hover {\n",
              "    background-color: var(--hover-bg-color);\n",
              "    box-shadow: 0 1px 2px rgba(60, 64, 67, 0.3), 0 1px 3px 1px rgba(60, 64, 67, 0.15);\n",
              "    fill: var(--button-hover-fill-color);\n",
              "  }\n",
              "\n",
              "  .colab-df-quickchart-complete:disabled,\n",
              "  .colab-df-quickchart-complete:disabled:hover {\n",
              "    background-color: var(--disabled-bg-color);\n",
              "    fill: var(--disabled-fill-color);\n",
              "    box-shadow: none;\n",
              "  }\n",
              "\n",
              "  .colab-df-spinner {\n",
              "    border: 2px solid var(--fill-color);\n",
              "    border-color: transparent;\n",
              "    border-bottom-color: var(--fill-color);\n",
              "    animation:\n",
              "      spin 1s steps(1) infinite;\n",
              "  }\n",
              "\n",
              "  @keyframes spin {\n",
              "    0% {\n",
              "      border-color: transparent;\n",
              "      border-bottom-color: var(--fill-color);\n",
              "      border-left-color: var(--fill-color);\n",
              "    }\n",
              "    20% {\n",
              "      border-color: transparent;\n",
              "      border-left-color: var(--fill-color);\n",
              "      border-top-color: var(--fill-color);\n",
              "    }\n",
              "    30% {\n",
              "      border-color: transparent;\n",
              "      border-left-color: var(--fill-color);\n",
              "      border-top-color: var(--fill-color);\n",
              "      border-right-color: var(--fill-color);\n",
              "    }\n",
              "    40% {\n",
              "      border-color: transparent;\n",
              "      border-right-color: var(--fill-color);\n",
              "      border-top-color: var(--fill-color);\n",
              "    }\n",
              "    60% {\n",
              "      border-color: transparent;\n",
              "      border-right-color: var(--fill-color);\n",
              "    }\n",
              "    80% {\n",
              "      border-color: transparent;\n",
              "      border-right-color: var(--fill-color);\n",
              "      border-bottom-color: var(--fill-color);\n",
              "    }\n",
              "    90% {\n",
              "      border-color: transparent;\n",
              "      border-bottom-color: var(--fill-color);\n",
              "    }\n",
              "  }\n",
              "</style>\n",
              "\n",
              "      <script>\n",
              "        async function quickchart(key) {\n",
              "          const quickchartButtonEl =\n",
              "            document.querySelector('#' + key + ' button');\n",
              "          quickchartButtonEl.disabled = true;  // To prevent multiple clicks.\n",
              "          quickchartButtonEl.classList.add('colab-df-spinner');\n",
              "          try {\n",
              "            const charts = await google.colab.kernel.invokeFunction(\n",
              "                'suggestCharts', [key], {});\n",
              "          } catch (error) {\n",
              "            console.error('Error during call to suggestCharts:', error);\n",
              "          }\n",
              "          quickchartButtonEl.classList.remove('colab-df-spinner');\n",
              "          quickchartButtonEl.classList.add('colab-df-quickchart-complete');\n",
              "        }\n",
              "        (() => {\n",
              "          let quickchartButtonEl =\n",
              "            document.querySelector('#df-cc0a1f66-54a0-4d9d-b6bb-6b2f1d700d2c button');\n",
              "          quickchartButtonEl.style.display =\n",
              "            google.colab.kernel.accessAllowed ? 'block' : 'none';\n",
              "        })();\n",
              "      </script>\n",
              "    </div>\n",
              "\n",
              "    </div>\n",
              "  </div>\n"
            ],
            "application/vnd.google.colaboratory.intrinsic+json": {
              "type": "dataframe",
              "summary": "{\n  \"name\": \"# (\\uc6d0\\ud55c\\ub2e4\\uba74 \\ud788\\uc2a4\\ud1a0\\uadf8\\ub7a8/\\ubc15\\uc2a4\\ud50c\\ub86f \\ucd94\\uac00)\",\n  \"rows\": 8,\n  \"fields\": [\n    {\n      \"column\": \"Age\",\n      \"properties\": {\n        \"dtype\": \"Float64\",\n        \"num_unique_values\": 8,\n        \"samples\": [\n          43.008706763342445,\n          43.0,\n          100956.0\n        ],\n        \"semantic_type\": \"\",\n        \"description\": \"\"\n      }\n    },\n    {\n      \"column\": \"Income\",\n      \"properties\": {\n        \"dtype\": \"Float64\",\n        \"num_unique_values\": 8,\n        \"samples\": [\n          82518.4446511812,\n          82420.0,\n          101041.0\n        ],\n        \"semantic_type\": \"\",\n        \"description\": \"\"\n      }\n    },\n    {\n      \"column\": \"LoanAmount\",\n      \"properties\": {\n        \"dtype\": \"Float64\",\n        \"num_unique_values\": 8,\n        \"samples\": [\n          127635.58543245542,\n          127641.0,\n          101074.0\n        ],\n        \"semantic_type\": \"\",\n        \"description\": \"\"\n      }\n    },\n    {\n      \"column\": \"CreditScore\",\n      \"properties\": {\n        \"dtype\": \"Float64\",\n        \"num_unique_values\": 8,\n        \"samples\": [\n          573.724958008102,\n          573.0,\n          101210.0\n        ],\n        \"semantic_type\": \"\",\n        \"description\": \"\"\n      }\n    },\n    {\n      \"column\": \"MonthsEmployed\",\n      \"properties\": {\n        \"dtype\": \"Float64\",\n        \"num_unique_values\": 8,\n        \"samples\": [\n          59.04647272511309,\n          59.0,\n          101027.0\n        ],\n        \"semantic_type\": \"\",\n        \"description\": \"\"\n      }\n    },\n    {\n      \"column\": \"NumCreditLines\",\n      \"properties\": {\n        \"dtype\": \"Float64\",\n        \"num_unique_values\": 8,\n        \"samples\": [\n          2.0016109743924253,\n          2.0,\n          101181.0\n        ],\n        \"semantic_type\": \"\",\n        \"description\": \"\"\n      }\n    },\n    {\n      \"column\": \"InterestRate\",\n      \"properties\": {\n        \"dtype\": \"Float64\",\n        \"num_unique_values\": 8,\n        \"samples\": [\n          13.494325907860695,\n          13.44,\n          100869.0\n        ],\n        \"semantic_type\": \"\",\n        \"description\": \"\"\n      }\n    },\n    {\n      \"column\": \"LoanTerm\",\n      \"properties\": {\n        \"dtype\": \"Float64\",\n        \"num_unique_values\": 8,\n        \"samples\": [\n          35.50589339524774,\n          35.0,\n          101215.0\n        ],\n        \"semantic_type\": \"\",\n        \"description\": \"\"\n      }\n    },\n    {\n      \"column\": \"DTIRatio\",\n      \"properties\": {\n        \"dtype\": \"Float64\",\n        \"num_unique_values\": 8,\n        \"samples\": [\n          0.49961893901834437,\n          0.5,\n          100850.0\n        ],\n        \"semantic_type\": \"\",\n        \"description\": \"\"\n      }\n    }\n  ]\n}"
            }
          },
          "metadata": {}
        }
      ]
    },
    {
      "cell_type": "markdown",
      "source": [
        "#4. 컬럼 구분: 수치형 vs 범주형"
      ],
      "metadata": {
        "id": "HtFTyDKIISuN"
      }
    },
    {
      "cell_type": "code",
      "source": [
        "numeric_features = [\n",
        "    'Age', 'Income', 'LoanAmount', 'CreditScore',\n",
        "    'MonthsEmployed', 'NumCreditLines', 'InterestRate',\n",
        "    'LoanTerm', 'DTIRatio'\n",
        "]\n",
        "categorical_features = [\n",
        "    'Education', 'EmploymentType', 'MaritalStatus',\n",
        "    'HasMortgage', 'HasDependents', 'LoanPurpose',\n",
        "    'HasCoSigner'\n",
        "]\n"
      ],
      "metadata": {
        "id": "96ttXOIfITs6"
      },
      "execution_count": 40,
      "outputs": []
    },
    {
      "cell_type": "markdown",
      "source": [
        "#5. 전처리 파이프라인 구성"
      ],
      "metadata": {
        "id": "EWoZ1jw4IWCn"
      }
    },
    {
      "cell_type": "code",
      "source": [
        "#5-1. 수치형 파이프라인\n",
        "num_pipeline = Pipeline([\n",
        "    ('imputer', SimpleImputer(strategy='median')),\n",
        "    ('scaler', StandardScaler())\n",
        "])\n",
        "\n",
        "#5-2. 범주형 파이프라인\n",
        "cat_pipeline = Pipeline([\n",
        "    ('imputer', SimpleImputer(strategy='constant', fill_value='Missing')),\n",
        "    ('onehot', OneHotEncoder(handle_unknown='ignore'))\n",
        "])\n",
        "\n",
        "#5-3. 컬럼 통합\n",
        "preprocessor = ColumnTransformer([\n",
        "    ('num', num_pipeline, numeric_features),\n",
        "    ('cat', cat_pipeline, categorical_features)\n",
        "])\n"
      ],
      "metadata": {
        "id": "yRZx75NlIW6Y"
      },
      "execution_count": 41,
      "outputs": []
    },
    {
      "cell_type": "markdown",
      "source": [
        "#6. 불균형 해소 전략"
      ],
      "metadata": {
        "id": "C8BB6iU7IhPJ"
      }
    },
    {
      "cell_type": "code",
      "source": [
        "# ─── 옵션 A: class_weight 이용 ─────────────────\n",
        "clf = Pipeline([\n",
        "    ('preprocess', preprocessor),\n",
        "    ('model', RandomForestClassifier(\n",
        "        n_estimators=100, random_state=42,\n",
        "        class_weight='balanced_subsample'\n",
        "    ))\n",
        "])\n",
        "\n",
        "# ─── 옵션 B: SMOTE + class_weight 조합 ───────────\n",
        "#clf_smote = ImbPipeline([\n",
        "#    ('preprocess', preprocessor),\n",
        " #   ('smote', SMOTE(random_state=42, sampling_strategy=0.5)),\n",
        "  #  ('model', RandomForestClassifier(\n",
        "   #     n_estimators=100, random_state=42,\n",
        "    #    class_weight='balanced_subsample'\n",
        "    #))\n",
        "#])\n"
      ],
      "metadata": {
        "id": "SoRT--eSIi7H"
      },
      "execution_count": 42,
      "outputs": []
    },
    {
      "cell_type": "markdown",
      "source": [
        "#7. 기본 모델 학습 및 평가"
      ],
      "metadata": {
        "id": "PAG0S0L8IrJ1"
      }
    },
    {
      "cell_type": "code",
      "source": [
        "clf.fit(X_train, y_train)\n",
        "y_pred = clf.predict(X_valid)\n",
        "\n",
        "print(\"F1-score:\", f1_score(y_valid, y_pred))\n",
        "print(classification_report(y_valid, y_pred))\n",
        "print(\"Confusion Matrix:\\n\", confusion_matrix(y_valid, y_pred))\n"
      ],
      "metadata": {
        "colab": {
          "base_uri": "https://localhost:8080/"
        },
        "id": "yUh4gi2kIsCy",
        "outputId": "2ce65fc4-0a57-40c5-ecfb-9caca076564b"
      },
      "execution_count": 43,
      "outputs": [
        {
          "output_type": "stream",
          "name": "stdout",
          "text": [
            "F1-score: 0.0\n",
            "              precision    recall  f1-score   support\n",
            "\n",
            "           0       0.94      1.00      0.97     23878\n",
            "           1       0.00      0.00      0.00      1457\n",
            "\n",
            "    accuracy                           0.94     25335\n",
            "   macro avg       0.47      0.50      0.49     25335\n",
            "weighted avg       0.89      0.94      0.91     25335\n",
            "\n",
            "Confusion Matrix:\n",
            " [[23878     0]\n",
            " [ 1457     0]]\n"
          ]
        },
        {
          "output_type": "stream",
          "name": "stderr",
          "text": [
            "/usr/local/lib/python3.11/dist-packages/sklearn/metrics/_classification.py:1565: UndefinedMetricWarning: Precision is ill-defined and being set to 0.0 in labels with no predicted samples. Use `zero_division` parameter to control this behavior.\n",
            "  _warn_prf(average, modifier, f\"{metric.capitalize()} is\", len(result))\n",
            "/usr/local/lib/python3.11/dist-packages/sklearn/metrics/_classification.py:1565: UndefinedMetricWarning: Precision is ill-defined and being set to 0.0 in labels with no predicted samples. Use `zero_division` parameter to control this behavior.\n",
            "  _warn_prf(average, modifier, f\"{metric.capitalize()} is\", len(result))\n",
            "/usr/local/lib/python3.11/dist-packages/sklearn/metrics/_classification.py:1565: UndefinedMetricWarning: Precision is ill-defined and being set to 0.0 in labels with no predicted samples. Use `zero_division` parameter to control this behavior.\n",
            "  _warn_prf(average, modifier, f\"{metric.capitalize()} is\", len(result))\n"
          ]
        }
      ]
    },
    {
      "cell_type": "markdown",
      "source": [
        "#8. 임계값(treshold) 최적화"
      ],
      "metadata": {
        "id": "0uz2G8UdIuWP"
      }
    },
    {
      "cell_type": "code",
      "source": [
        "# 예측 확률 얻기\n",
        "probs = clf.predict_proba(X_valid)[:, 1]\n",
        "\n",
        "best_thresh, best_f1 = 0.0, 0.0\n",
        "for thresh in np.linspace(0.1, 0.9, 81):\n",
        "    preds = (probs >= thresh).astype(int)\n",
        "    score = f1_score(y_valid, preds)\n",
        "    if score > best_f1:\n",
        "        best_thresh, best_f1 = thresh, score\n",
        "\n",
        "print(f\"최적 임계값: {best_thresh:.2f}, 해당 F1: {best_f1:.4f}\")\n"
      ],
      "metadata": {
        "colab": {
          "base_uri": "https://localhost:8080/"
        },
        "id": "9bwzzoxBIvj0",
        "outputId": "317ebe06-b8fd-4c42-b942-f1b1d35658f0"
      },
      "execution_count": 44,
      "outputs": [
        {
          "output_type": "stream",
          "name": "stdout",
          "text": [
            "최적 임계값: 0.10, 해당 F1: 0.1980\n"
          ]
        }
      ]
    },
    {
      "cell_type": "markdown",
      "source": [
        "#9. 하이퍼파라미터 튜닝"
      ],
      "metadata": {
        "id": "3g67oeahIw5i"
      }
    },
    {
      "cell_type": "code",
      "source": [
        "param_grid = {\n",
        "    'model__n_estimators': [100, 200],\n",
        "    'model__max_depth': [None, 10, 20],\n",
        "    'model__min_samples_split': [2, 5]\n",
        "}\n",
        "grid = GridSearchCV(\n",
        "    clf, param_grid, cv=3,\n",
        "    scoring='f1', n_jobs=-1, verbose=2\n",
        ")\n",
        "grid.fit(X_train, y_train)\n",
        "\n",
        "print(\"Best Params:\", grid.best_params_)\n",
        "print(\"Best CV F1:\", grid.best_score_)\n"
      ],
      "metadata": {
        "colab": {
          "base_uri": "https://localhost:8080/"
        },
        "id": "QTsWEDxKIyKC",
        "outputId": "34931aec-9650-4ad8-dccc-2c54c66ec5b1"
      },
      "execution_count": null,
      "outputs": [
        {
          "output_type": "stream",
          "name": "stdout",
          "text": [
            "Fitting 3 folds for each of 12 candidates, totalling 36 fits\n"
          ]
        }
      ]
    },
    {
      "cell_type": "markdown",
      "source": [
        "#10. 최종 모델 학습 & 테스트 예측"
      ],
      "metadata": {
        "id": "8zkNO8sRIz8N"
      }
    },
    {
      "cell_type": "code",
      "source": [
        "# 1) 최적 파라미터로 재설정\n",
        "final_clf = Pipeline([\n",
        "    ('preprocess', preprocessor),\n",
        "    ('model', RandomForestClassifier(\n",
        "        **grid.best_params_['model__param_dict'],  # 예시\n",
        "        random_state=42,\n",
        "        class_weight='balanced_subsample'\n",
        "    ))\n",
        "])\n",
        "\n",
        "# 2) 전체 학습 데이터로 학습\n",
        "final_clf.fit(X, y)\n",
        "\n",
        "# 3) 테스트 데이터 전처리 + 확률 예측\n",
        "X_test = df_test.drop(columns=['LoanID', 'Default'])\n",
        "probs_test = final_clf.predict_proba(X_test)[:, 1]\n",
        "\n",
        "# 4) 최적 임계값 적용\n",
        "y_test_pred = (probs_test >= best_thresh).astype(int)\n",
        "\n",
        "# 5) 결과 확인\n",
        "print(\"Test F1:\", f1_score(df_test['Default'], y_test_pred))\n"
      ],
      "metadata": {
        "id": "pGvMQXCsIzjp"
      },
      "execution_count": null,
      "outputs": []
    }
  ]
}