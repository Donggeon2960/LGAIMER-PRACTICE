{
  "nbformat": 4,
  "nbformat_minor": 0,
  "metadata": {
    "colab": {
      "provenance": [],
      "gpuType": "T4",
      "authorship_tag": "ABX9TyOpryV0p55xBJYCFkeAPi8z",
      "include_colab_link": true
    },
    "kernelspec": {
      "name": "python3",
      "display_name": "Python 3"
    },
    "language_info": {
      "name": "python"
    },
    "accelerator": "GPU"
  },
  "cells": [
    {
      "cell_type": "markdown",
      "metadata": {
        "id": "view-in-github",
        "colab_type": "text"
      },
      "source": [
        "<a href=\"https://colab.research.google.com/github/Donggeon2960/LGAIMER-PRACTICE/blob/main/%EC%A0%9C1%ED%9A%8C%EB%AA%A8%EC%9D%98%ED%95%B4%EC%BB%A4%ED%86%A4.ipynb\" target=\"_parent\"><img src=\"https://colab.research.google.com/assets/colab-badge.svg\" alt=\"Open In Colab\"/></a>"
      ]
    },
    {
      "cell_type": "code",
      "source": [
        "# 0. 라이브러리 로드 --------------------------------------------------------\n",
        "import pandas as pd\n",
        "import numpy as np"
      ],
      "metadata": {
        "id": "facrkD1MwDGD"
      },
      "execution_count": 6,
      "outputs": []
    },
    {
      "cell_type": "code",
      "source": [
        "# 전처리·모델링 도구\n",
        "from sklearn.model_selection import train_test_split, GridSearchCV\n",
        "from sklearn.preprocessing import StandardScaler\n",
        "from sklearn.impute import SimpleImputer\n",
        "from sklearn.utils import resample\n",
        "from imblearn.over_sampling import SMOTE\n",
        "from imblearn.pipeline import Pipeline"
      ],
      "metadata": {
        "id": "0yfpSH2AwEDu"
      },
      "execution_count": 7,
      "outputs": []
    },
    {
      "cell_type": "code",
      "source": [
        "# 분류 모델\n",
        "from sklearn.ensemble import RandomForestClassifier, StackingClassifier\n",
        "from xgboost import XGBClassifier\n",
        "from sklearn.linear_model import LogisticRegression\n",
        "from sklearn.ensemble import VotingClassifier"
      ],
      "metadata": {
        "id": "394W-OcOwFkp"
      },
      "execution_count": 8,
      "outputs": []
    },
    {
      "cell_type": "code",
      "source": [
        "# 평가 지표\n",
        "from sklearn.metrics import f1_score, precision_recall_curve, classification_report\n"
      ],
      "metadata": {
        "id": "f7uq34gKwG_U"
      },
      "execution_count": 9,
      "outputs": []
    },
    {
      "cell_type": "code",
      "source": [
        "# 1. 데이터 로드 및 분리 ---------------------------------------------------\n",
        "train = pd.read_pickle('/content/train.pkl')\n",
        "test  = pd.read_pickle('/content/test.pkl')\n",
        "\n",
        "# LoanID, Default 분리\n",
        "X = train.drop(columns=['LoanID','Default'])\n",
        "y = train['Default']\n",
        "\n",
        "# train/validation 분리 (레이블 비율 유지)\n",
        "X_train, X_val, y_train, y_val = train_test_split(\n",
        "    X, y,\n",
        "    test_size=0.2,\n",
        "    stratify=y,\n",
        "    random_state=42\n",
        ")"
      ],
      "metadata": {
        "id": "n1aShexfwIhn"
      },
      "execution_count": 10,
      "outputs": []
    },
    {
      "cell_type": "code",
      "source": [
        "# 2. 결측치 처리 -----------------------------------------------------------\n",
        "# 숫자형 + Bool 더미 vs 순수 문자열 컬럼 구분\n",
        "num_cols = X_train.select_dtypes(include=['int64','float64','bool']).columns\n",
        "cat_cols = X_train.select_dtypes(include=['object']).columns\n",
        "\n",
        "# Imputer 정의\n",
        "num_imputer = SimpleImputer(strategy='median')\n",
        "cat_imputer = SimpleImputer(strategy='most_frequent')\n",
        "\n",
        "# 숫자형/더미 컬럼 결측치 → 중앙값\n",
        "X_train[num_cols] = num_imputer.fit_transform(X_train[num_cols])\n",
        "X_val  [num_cols] = num_imputer.transform   (X_val  [num_cols])\n",
        "\n",
        "# 문자열(object) 컬럼 결측치 → 최빈값 (존재할 경우에만)\n",
        "if len(cat_cols) > 0:\n",
        "    X_train[cat_cols] = cat_imputer.fit_transform(X_train[cat_cols])\n",
        "    X_val  [cat_cols] = cat_imputer.transform   (X_val  [cat_cols])"
      ],
      "metadata": {
        "id": "-FZKRE4lwP2q"
      },
      "execution_count": 11,
      "outputs": []
    },
    {
      "cell_type": "code",
      "source": [
        "# 2. 결측치 처리 -----------------------------------------------------------\n",
        "# 숫자형 + Bool 더미 vs 순수 문자열 컬럼 구분\n",
        "num_cols = X_train.select_dtypes(include=['int64','float64','bool']).columns\n",
        "cat_cols = X_train.select_dtypes(include=['object']).columns\n",
        "\n",
        "# Imputer 정의\n",
        "num_imputer = SimpleImputer(strategy='median')\n",
        "cat_imputer = SimpleImputer(strategy='most_frequent')\n",
        "\n",
        "# 숫자형/더미 컬럼 결측치 → 중앙값\n",
        "X_train[num_cols] = num_imputer.fit_transform(X_train[num_cols])\n",
        "X_val  [num_cols] = num_imputer.transform   (X_val  [num_cols])\n",
        "\n",
        "# 문자열(object) 컬럼 결측치 → 최빈값 (존재할 경우에만)\n",
        "if len(cat_cols) > 0:\n",
        "    X_train[cat_cols] = cat_imputer.fit_transform(X_train[cat_cols])\n",
        "    X_val  [cat_cols] = cat_imputer.transform   (X_val  [cat_cols])\n"
      ],
      "metadata": {
        "id": "qt5Wx2O-wZ1w"
      },
      "execution_count": 12,
      "outputs": []
    },
    {
      "cell_type": "code",
      "source": [
        "# 3. 인코딩 & 스케일링 -----------------------------------------------------\n",
        "# 1) One‑Hot 인코딩\n",
        "X_train = pd.get_dummies(X_train, drop_first=True)\n",
        "X_val   = pd.get_dummies(X_val,   drop_first=True)\n",
        "# train에 있던 컬럼만 남기고, 없으면 0으로 채움\n",
        "X_val   = X_val.reindex(columns=X_train.columns, fill_value=0)\n",
        "\n",
        "# 2) 주요 수치형 피처 스케일링\n",
        "num_features = ['Age','Income','LoanAmount','CreditScore',\n",
        "                'MonthsEmployed','NumCreditLines','InterestRate',\n",
        "                'LoanTerm','DTIRatio']\n",
        "scaler = StandardScaler()\n",
        "X_train[num_features] = scaler.fit_transform(X_train[num_features])\n",
        "X_val  [num_features] = scaler.transform   (X_val  [num_features])"
      ],
      "metadata": {
        "id": "GjZImxG_waOd"
      },
      "execution_count": 13,
      "outputs": []
    },
    {
      "cell_type": "code",
      "source": [
        "# 4. 간단한 피처 엔지니어링 -------------------------------------------------\n",
        "# 예시: 소득 대비 대출 비율\n",
        "X_train['Inc_Loan_Ratio'] = X_train['Income'] / (X_train['LoanAmount'] + 1)\n",
        "X_val  ['Inc_Loan_Ratio'] = X_val  ['Income'] / (X_val  ['LoanAmount'] + 1)\n"
      ],
      "metadata": {
        "id": "8ut-WwGqwcwL"
      },
      "execution_count": 14,
      "outputs": []
    },
    {
      "cell_type": "code",
      "source": [
        "# 5. SMOTE + RandomForest 파이프라인 + 그리드서치 ----------------------------\n",
        "pipe = Pipeline([\n",
        "    ('smote', SMOTE(random_state=42)),\n",
        "    ('rf', RandomForestClassifier(\n",
        "        class_weight='balanced_subsample',\n",
        "        random_state=42,\n",
        "        n_jobs=-1\n",
        "    ))\n",
        "])\n",
        "param_grid = {\n",
        "    'smote__k_neighbors': [3, 5],\n",
        "    'rf__n_estimators':    [100, 200],\n",
        "    'rf__max_depth':       [None, 10, 20],\n",
        "}\n",
        "grid = GridSearchCV(\n",
        "    pipe,\n",
        "    param_grid,\n",
        "    scoring='f1',\n",
        "    cv=3,\n",
        "    n_jobs=-1,\n",
        "    verbose=1\n",
        ")\n",
        "grid.fit(X_train, y_train)\n",
        "best_model = grid.best_estimator_\n",
        "\n",
        "print(\"▶ 최적 파라미터 (SMOTE+RF):\", grid.best_params_)"
      ],
      "metadata": {
        "colab": {
          "base_uri": "https://localhost:8080/"
        },
        "id": "L-iBrDqUwen5",
        "outputId": "da332cc6-0b59-4b84-ee97-1d666702abd9"
      },
      "execution_count": null,
      "outputs": [
        {
          "output_type": "stream",
          "name": "stdout",
          "text": [
            "Fitting 3 folds for each of 12 candidates, totalling 36 fits\n"
          ]
        },
        {
          "output_type": "stream",
          "name": "stderr",
          "text": [
            "/usr/local/lib/python3.11/dist-packages/joblib/externals/loky/process_executor.py:782: UserWarning: A worker stopped while some jobs were given to the executor. This can be caused by a too short worker timeout or by a memory leak.\n",
            "  warnings.warn(\n"
          ]
        }
      ]
    },
    {
      "cell_type": "code",
      "source": [
        "# 6. Validation 성능 확인 -----------------------------------------------\n",
        "y_pred = best_model.predict(X_val)\n",
        "print(\"▶ Validation F1 (SMOTE+RF):\", f1_score(y_val, y_pred))\n",
        "print(classification_report(y_val, y_pred))"
      ],
      "metadata": {
        "id": "hGeijdHAwghH"
      },
      "execution_count": null,
      "outputs": []
    },
    {
      "cell_type": "code",
      "source": [
        "# 7. Stacking 앙상블 ------------------------------------------------------\n",
        "estimators = [\n",
        "    ('rf',  RandomForestClassifier(\n",
        "        n_estimators=grid.best_params_['rf__n_estimators'],\n",
        "        max_depth=   grid.best_params_['rf__max_depth'],\n",
        "        class_weight='balanced_subsample',\n",
        "        random_state=42,\n",
        "        n_jobs=-1\n",
        "    )),\n",
        "    ('xgb', XGBClassifier(\n",
        "        n_estimators=200,\n",
        "        scale_pos_weight=(len(y_train)-y_train.sum())/y_train.sum(),\n",
        "        use_label_encoder=False,\n",
        "        eval_metric='logloss',\n",
        "        random_state=42,\n",
        "        n_jobs=-1\n",
        "    ))\n",
        "]\n",
        "stack = StackingClassifier(\n",
        "    estimators=estimators,\n",
        "    final_estimator=LogisticRegression(),\n",
        "    cv=3,\n",
        "    n_jobs=-1\n",
        ")\n",
        "stack.fit(X_train, y_train)\n",
        "\n",
        "y_pred_stack = stack.predict(X_val)\n",
        "print(\"▶ Validation F1 (Stacking):\", f1_score(y_val, y_pred_stack))\n",
        "print(classification_report(y_val, y_pred_stack))\n"
      ],
      "metadata": {
        "id": "_lyyCCWtwhy4"
      },
      "execution_count": null,
      "outputs": []
    },
    {
      "cell_type": "code",
      "source": [
        "# 8. Threshold 조정 (Stacking 모델) ---------------------------------------\n",
        "y_proba = stack.predict_proba(X_val)[:,1]\n",
        "prec, rec, thr = precision_recall_curve(y_val, y_proba)\n",
        "f1s = 2 * (prec * rec) / (prec + rec)\n",
        "ix  = np.argmax(f1s)\n",
        "\n",
        "print(f\"▶ Optimal Threshold = {thr[ix]:.3f}, 이때 F1 = {f1s[ix]:.3f}\")\n",
        "\n",
        "# 임계치 적용 후 성능\n",
        "y_pred_thresh = (y_proba >= thr[ix]).astype(int)\n",
        "print(\"▶ Adjusted F1 (Stacking):\", f1_score(y_val, y_pred_thresh))\n",
        "print(classification_report(y_val, y_pred_thresh))\n"
      ],
      "metadata": {
        "id": "XsXOlUalwjs6"
      },
      "execution_count": null,
      "outputs": []
    },
    {
      "cell_type": "code",
      "source": [
        "# 9. 테스트 데이터 예측 & 제출파일 생성 ----------------------------------\n",
        "# 1) 테스트셋 동일 전처리\n",
        "X_test = test.drop(columns=['LoanID'])\n",
        "\n",
        "X_test[num_cols] = num_imputer.transform(X_test[num_cols])\n",
        "if len(cat_cols) > 0:\n",
        "    X_test[cat_cols] = cat_imputer.transform(X_test[cat_cols])\n",
        "\n",
        "X_test = pd.get_dummies(X_test, drop_first=True)\n",
        "X_test = X_test.reindex(columns=X_train.columns, fill_value=0)\n",
        "\n",
        "X_test[num_features] = scaler.transform(X_test[num_features])\n",
        "X_test['Inc_Loan_Ratio'] = X_test['Income'] / (X_test['LoanAmount'] + 1)\n",
        "\n",
        "# 2) 최종 예측 (Threshold 적용)\n",
        "test_proba = stack.predict_proba(X_test)[:,1]\n",
        "test_pred  = (test_proba >= thr[ix]).astype(int)\n"
      ],
      "metadata": {
        "id": "ErnC-xTfwlcR"
      },
      "execution_count": null,
      "outputs": []
    },
    {
      "cell_type": "code",
      "source": [
        "# ▶ (1) 필요한 모듈 import\n",
        "from sklearn.metrics import f1_score, classification_report\n",
        "\n",
        "# … (앞부분 생략) …\n",
        "\n",
        "# 5. SMOTE+RF 그리드서치 이후 검증 성능 확인 -------------------------------\n",
        "y_pred = best_model.predict(X_val)\n",
        "# F1 출력\n",
        "print(\"▶ Validation F1 (SMOTE+RF):\", f1_score(y_val, y_pred))\n",
        "print(classification_report(y_val, y_pred))\n",
        "\n",
        "# 6. Stacking 앙상블 성능 확인 --------------------------------------------\n",
        "y_pred_stack = stack.predict(X_val)\n",
        "# F1 출력\n",
        "print(\"▶ Validation F1 (Stacking):\", f1_score(y_val, y_pred_stack))\n",
        "print(classification_report(y_val, y_pred_stack))\n",
        "\n",
        "# 7. Threshold 조정 후 성능 확인 -----------------------------------------\n",
        "y_proba = stack.predict_proba(X_val)[:,1]\n",
        "prec, rec, thr = precision_recall_curve(y_val, y_proba)\n",
        "f1s = 2 * (prec * rec) / (prec + rec)\n",
        "ix  = np.argmax(f1s)\n",
        "\n",
        "# 최적 임계치 및 F1 출력\n",
        "print(f\"▶ Optimal Threshold = {thr[ix]:.3f}, 이때 F1 = {f1s[ix]:.3f}\")\n",
        "\n",
        "# 임계치 적용 예측\n",
        "y_pred_thresh = (y_proba >= thr[ix]).astype(int)\n",
        "# F1 출력\n",
        "print(\"▶ Adjusted F1 (Stacking):\", f1_score(y_val, y_pred_thresh))\n",
        "print(classification_report(y_val, y_pred_thresh))\n",
        "\n",
        "# … (테스트 예측 및 제출파일 생성) …\n"
      ],
      "metadata": {
        "id": "omsXUS0ow9NG"
      },
      "execution_count": null,
      "outputs": []
    }
  ]
}